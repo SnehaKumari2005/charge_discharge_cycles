{
 "cells": [
  {
   "cell_type": "code",
   "execution_count": 7,
   "id": "e724a868",
   "metadata": {},
   "outputs": [
    {
     "name": "stderr",
     "output_type": "stream",
     "text": [
      "C:\\Users\\Sneha\\AppData\\Local\\Temp\\ipykernel_24372\\2598879306.py:17: UserWarning: Could not infer format, so each element will be parsed individually, falling back to `dateutil`. To ensure parsing is consistent and as-expected, please specify a format.\n",
      "  df[\"timestamp\"] = pd.to_datetime(df[\"timestamp\"], errors=\"coerce\")\n"
     ]
    },
    {
     "name": "stdout",
     "output_type": "stream",
     "text": [
      "Total Charge Cycles Detected    : 101\n",
      "Total Discharge Cycles Detected : 274\n"
     ]
    }
   ],
   "source": [
    "import pandas as pd\n",
    "import numpy as np\n",
    "\n",
    "# --- CONFIG ---\n",
    "filename = \"C:/Users/Sneha/Downloads/feeds[1].csv\"\n",
    "timestamp_col = 0     \n",
    "voltage_col = 2       \n",
    "smooth_window = 10          \n",
    "slope_threshold = 2e-4       \n",
    "min_duration_s = 300        \n",
    "min_voltage_change = 0.05   \n",
    "min_voltage_diff_noise = 0.01 \n",
    "df = pd.read_csv(filename, header=None)\n",
    "df = df[[timestamp_col, voltage_col]]\n",
    "df.columns = [\"timestamp\", \"voltage\"]\n",
    "\n",
    "df[\"timestamp\"] = pd.to_datetime(df[\"timestamp\"], errors=\"coerce\")\n",
    "df[\"voltage\"] = pd.to_numeric(df[\"voltage\"], errors=\"coerce\")\n",
    "df = df.dropna().reset_index(drop=True)\n",
    "\n",
    "df[\"t_s\"] = (df[\"timestamp\"] - df[\"timestamp\"].iloc[0]).dt.total_seconds()\n",
    "df[\"v_smooth\"] = df[\"voltage\"].rolling(smooth_window, center=True, min_periods=1).mean()\n",
    "\n",
    "df[\"v_filtered\"] = df[\"v_smooth\"].where(df[\"v_smooth\"].diff().abs() > min_voltage_diff_noise, np.nan)\n",
    "df[\"v_filtered\"] = df[\"v_filtered\"].interpolate().bfill().ffill()\n",
    "\n",
    "dt = df[\"t_s\"].diff().replace(0, 1e-6)\n",
    "df[\"slope\"] = df[\"v_filtered\"].diff() / dt\n",
    "df[\"is_charging\"] = df[\"slope\"] > slope_threshold\n",
    "df[\"is_discharging\"] = df[\"slope\"] < -slope_threshold\n",
    "def extract_segments(df, condition_col, label):\n",
    "    df[\"group\"] = (df[condition_col] != df[condition_col].shift()).cumsum()\n",
    "    segments = []\n",
    "    for _, grp in df.groupby(\"group\"):\n",
    "        if not grp[condition_col].iloc[0]:\n",
    "            continue\n",
    "        start, end = grp.iloc[0], grp.iloc[-1]\n",
    "        duration = end[\"t_s\"] - start[\"t_s\"]\n",
    "        v_change = end[\"v_filtered\"] - start[\"v_filtered\"]\n",
    "        if duration >= min_duration_s and abs(v_change) >= min_voltage_change:\n",
    "            segments.append({\n",
    "                \"Type\": label,\n",
    "                \"Start Time\": start[\"timestamp\"],\n",
    "                \"End Time\": end[\"timestamp\"],\n",
    "                \"Duration (s)\": round(duration, 1),\n",
    "                \"ΔV (V)\": round(v_change, 4)\n",
    "            })\n",
    "    return segments\n",
    "charge_cycles = extract_segments(df.copy(), \"is_charging\", \"Charge\")\n",
    "discharge_cycles = extract_segments(df.copy(), \"is_discharging\", \"Discharge\")\n",
    "print(f\"Total Charge Cycles Detected    : {len(charge_cycles)}\")\n",
    "print(f\"Total Discharge Cycles Detected : {len(discharge_cycles)}\")\n"
   ]
  }
 ],
 "metadata": {
  "kernelspec": {
   "display_name": "Python 3",
   "language": "python",
   "name": "python3"
  },
  "language_info": {
   "codemirror_mode": {
    "name": "ipython",
    "version": 3
   },
   "file_extension": ".py",
   "mimetype": "text/x-python",
   "name": "python",
   "nbconvert_exporter": "python",
   "pygments_lexer": "ipython3",
   "version": "3.13.7"
  }
 },
 "nbformat": 4,
 "nbformat_minor": 5
}
